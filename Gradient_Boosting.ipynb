{
 "cells": [
  {
   "cell_type": "code",
   "execution_count": 5,
   "id": "dc15f6b5-2337-4be4-8fef-e1d2b1ef9afd",
   "metadata": {},
   "outputs": [],
   "source": [
    "import pandas as pd\n",
    "import numpy as np\n",
    "\n",
    "from sklearn.ensemble import GradientBoostingClassifier\n",
    "from sklearn.model_selection import train_test_split\n",
    "from sklearn.datasets import load_breast_cancer"
   ]
  },
  {
   "cell_type": "code",
   "execution_count": 9,
   "id": "fd4fb5df-55d8-4de7-bb8d-2b6cae64c96e",
   "metadata": {},
   "outputs": [],
   "source": [
    "cancer = load_breast_cancer()\n",
    "X= cancer.data\n",
    "y = cancer.target"
   ]
  },
  {
   "cell_type": "code",
   "execution_count": 11,
   "id": "24cdb0f0-6354-4bf9-8e27-de02a3efa8c0",
   "metadata": {},
   "outputs": [],
   "source": [
    "X_train, X_test, y_train, y_test = train_test_split(X, y, test_size = 0.2, random_state = 42)"
   ]
  },
  {
   "cell_type": "code",
   "execution_count": 13,
   "id": "fb79be29-7c98-4eb1-b7d4-761a3dc0dc87",
   "metadata": {},
   "outputs": [],
   "source": [
    "from sklearn.metrics import accuracy_score"
   ]
  },
  {
   "cell_type": "code",
   "execution_count": 25,
   "id": "a145441f-b51f-44e1-bb54-98327c7412e6",
   "metadata": {},
   "outputs": [
    {
     "data": {
      "text/plain": [
       "0.9649122807017544"
      ]
     },
     "execution_count": 25,
     "metadata": {},
     "output_type": "execute_result"
    }
   ],
   "source": [
    "gbc = GradientBoostingClassifier(learning_rate=1, n_estimators=250)\n",
    "gbc.fit(X_train, y_train)\n",
    "accuracy_score(y_test, gbc.predict(X_test))"
   ]
  },
  {
   "cell_type": "markdown",
   "id": "3c7eb352-8558-496f-bd96-6cd0a824b72b",
   "metadata": {},
   "source": [
    "## Trying Adaboost on the same data"
   ]
  },
  {
   "cell_type": "code",
   "execution_count": 29,
   "id": "4030bdb9-28df-4e5e-bf6a-32052de395f9",
   "metadata": {},
   "outputs": [
    {
     "name": "stderr",
     "output_type": "stream",
     "text": [
      "C:\\Users\\anage\\anaconda3\\Lib\\site-packages\\sklearn\\ensemble\\_weight_boosting.py:527: FutureWarning: The SAMME.R algorithm (the default) is deprecated and will be removed in 1.6. Use the SAMME algorithm to circumvent this warning.\n",
      "  warnings.warn(\n"
     ]
    },
    {
     "data": {
      "text/plain": [
       "0.9824561403508771"
      ]
     },
     "execution_count": 29,
     "metadata": {},
     "output_type": "execute_result"
    }
   ],
   "source": [
    "from sklearn.ensemble import AdaBoostClassifier\n",
    "ada = AdaBoostClassifier(n_estimators= 20, learning_rate= 1.5)\n",
    "ada.fit(X_train, y_train)\n",
    "y_pred = ada.predict(X_test)\n",
    "accuracy_score(y_test, y_pred)"
   ]
  },
  {
   "cell_type": "markdown",
   "id": "c35f16c1-e065-4b5d-b859-22fc802d0b61",
   "metadata": {},
   "source": [
    "# GradientBoost Regressor"
   ]
  },
  {
   "cell_type": "code",
   "execution_count": 47,
   "id": "f24bb0d8-ca62-445d-8f16-6d1b6aedd390",
   "metadata": {},
   "outputs": [],
   "source": [
    "from sklearn.datasets import make_regression\n",
    "from sklearn.ensemble import GradientBoostingRegressor\n",
    "from sklearn.ensemble import AdaBoostRegressor\n",
    "from sklearn.metrics import r2_score"
   ]
  },
  {
   "cell_type": "code",
   "execution_count": 39,
   "id": "9475248b-87cf-4b29-92fe-9eb7a1157d72",
   "metadata": {},
   "outputs": [],
   "source": [
    "X , y = make_regression(n_samples=100, \n",
    "                       n_features=1, \n",
    "                       n_informative=10, \n",
    "                       n_targets=1, random_state=42)"
   ]
  },
  {
   "cell_type": "code",
   "execution_count": 41,
   "id": "47fac351-3461-49b7-9c90-872658800193",
   "metadata": {},
   "outputs": [],
   "source": [
    "X_train, X_test, y_train, y_test = train_test_split(X, y, test_size = 0.2, random_state = 42)"
   ]
  },
  {
   "cell_type": "code",
   "execution_count": 49,
   "id": "8defe9d6-32dd-47ee-8106-3403479ef854",
   "metadata": {},
   "outputs": [
    {
     "data": {
      "text/plain": [
       "0.9967668366410534"
      ]
     },
     "execution_count": 49,
     "metadata": {},
     "output_type": "execute_result"
    }
   ],
   "source": [
    "gbr = GradientBoostingRegressor(learning_rate=1, n_estimators=250)\n",
    "gbr.fit(X_train, y_train)\n",
    "r2_score(y_test, gbr.predict(X_test))"
   ]
  },
  {
   "cell_type": "markdown",
   "id": "287e6841-f73e-4c2a-a880-5245d88e26db",
   "metadata": {},
   "source": [
    "## Trying Adaboost on the same data"
   ]
  },
  {
   "cell_type": "code",
   "execution_count": 52,
   "id": "ffcc37d6-720b-467d-afd2-415898d54b1e",
   "metadata": {},
   "outputs": [
    {
     "data": {
      "text/plain": [
       "0.9883278709489105"
      ]
     },
     "execution_count": 52,
     "metadata": {},
     "output_type": "execute_result"
    }
   ],
   "source": [
    "from sklearn.ensemble import AdaBoostRegressor\n",
    "adr = AdaBoostRegressor(n_estimators= 20, learning_rate= 1.5)\n",
    "adr.fit(X_train, y_train)\n",
    "y_pred = adr.predict(X_test)\n",
    "r2_score(y_test, y_pred)"
   ]
  }
 ],
 "metadata": {
  "kernelspec": {
   "display_name": "Python [conda env:base] *",
   "language": "python",
   "name": "conda-base-py"
  },
  "language_info": {
   "codemirror_mode": {
    "name": "ipython",
    "version": 3
   },
   "file_extension": ".py",
   "mimetype": "text/x-python",
   "name": "python",
   "nbconvert_exporter": "python",
   "pygments_lexer": "ipython3",
   "version": "3.12.7"
  }
 },
 "nbformat": 4,
 "nbformat_minor": 5
}
