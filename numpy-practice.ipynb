{
 "cells": [
  {
   "cell_type": "code",
   "execution_count": 1,
   "id": "d4b23df9-649e-469d-9f32-0fd2f666da7b",
   "metadata": {},
   "outputs": [],
   "source": [
    "import numpy as np"
   ]
  },
  {
   "cell_type": "code",
   "execution_count": 3,
   "id": "b4534f07-8284-4eda-a728-a5670b8ffed3",
   "metadata": {},
   "outputs": [],
   "source": [
    "l1 = [1,4,3,4,2]\n",
    "arr1 = np.array(l1)"
   ]
  },
  {
   "cell_type": "code",
   "execution_count": 9,
   "id": "6a100bdc-7004-4cdd-bb05-6a9e1fe84f37",
   "metadata": {},
   "outputs": [
    {
     "data": {
      "text/plain": [
       "array([1, 4, 3, 4, 2])"
      ]
     },
     "execution_count": 9,
     "metadata": {},
     "output_type": "execute_result"
    }
   ],
   "source": [
    "arr1"
   ]
  },
  {
   "cell_type": "code",
   "execution_count": 43,
   "id": "7d27278c-f4e3-4e51-bc1a-502b46031664",
   "metadata": {},
   "outputs": [
    {
     "data": {
      "text/plain": [
       "numpy.ndarray"
      ]
     },
     "execution_count": 43,
     "metadata": {},
     "output_type": "execute_result"
    }
   ],
   "source": [
    "type(arr1)"
   ]
  },
  {
   "cell_type": "code",
   "execution_count": 13,
   "id": "eb84d0bd-b66b-42cd-9243-531b8a40db5f",
   "metadata": {},
   "outputs": [
    {
     "data": {
      "text/plain": [
       "(5,)"
      ]
     },
     "execution_count": 13,
     "metadata": {},
     "output_type": "execute_result"
    }
   ],
   "source": [
    "arr1.shape"
   ]
  },
  {
   "cell_type": "code",
   "execution_count": 15,
   "id": "3aa81a97-f86e-42c7-a760-1b5aab2b93f9",
   "metadata": {},
   "outputs": [
    {
     "data": {
      "text/plain": [
       "1"
      ]
     },
     "execution_count": 15,
     "metadata": {},
     "output_type": "execute_result"
    }
   ],
   "source": [
    "arr1.ndim"
   ]
  },
  {
   "cell_type": "code",
   "execution_count": 19,
   "id": "40b75dba-99d2-4ad2-a5c2-5e22e2bf5ffa",
   "metadata": {},
   "outputs": [
    {
     "data": {
      "text/plain": [
       "5"
      ]
     },
     "execution_count": 19,
     "metadata": {},
     "output_type": "execute_result"
    }
   ],
   "source": [
    "arr1.size"
   ]
  },
  {
   "cell_type": "code",
   "execution_count": 11,
   "id": "dd049429-0705-4a7a-b7bc-34835656648f",
   "metadata": {},
   "outputs": [
    {
     "data": {
      "text/plain": [
       "array([[1, 4, 2],\n",
       "       [2, 4, 1],\n",
       "       [5, 6, 3]])"
      ]
     },
     "execution_count": 11,
     "metadata": {},
     "output_type": "execute_result"
    }
   ],
   "source": [
    "arr2 = np.array([[1,4,2],\n",
    "                 [2,4,1],\n",
    "                 [5,6,3]])\n",
    "arr2"
   ]
  },
  {
   "cell_type": "code",
   "execution_count": 21,
   "id": "a10779e5-c05f-4261-9824-09ece665e6fa",
   "metadata": {},
   "outputs": [
    {
     "data": {
      "text/plain": [
       "(3, 3)"
      ]
     },
     "execution_count": 21,
     "metadata": {},
     "output_type": "execute_result"
    }
   ],
   "source": [
    "arr2.shape"
   ]
  },
  {
   "cell_type": "code",
   "execution_count": 23,
   "id": "09233ef4-2e02-4122-ae43-897a465b03a6",
   "metadata": {},
   "outputs": [
    {
     "data": {
      "text/plain": [
       "2"
      ]
     },
     "execution_count": 23,
     "metadata": {},
     "output_type": "execute_result"
    }
   ],
   "source": [
    "arr2.ndim"
   ]
  },
  {
   "cell_type": "code",
   "execution_count": 31,
   "id": "972274fb-4942-4cb1-b141-3f66a237a209",
   "metadata": {},
   "outputs": [
    {
     "data": {
      "text/plain": [
       "9"
      ]
     },
     "execution_count": 31,
     "metadata": {},
     "output_type": "execute_result"
    }
   ],
   "source": [
    "arr2.size"
   ]
  },
  {
   "cell_type": "code",
   "execution_count": 125,
   "id": "5a66a15e-a3c4-4056-9b57-91da4cfb3fa7",
   "metadata": {},
   "outputs": [],
   "source": [
    "arr3 = np.array([[[1,3], \n",
    "                  [2,2],\n",
    "                  [1,1]],\n",
    "                 \n",
    "                  [[2,2],\n",
    "                  [4,4],\n",
    "                  [1,5]]])"
   ]
  },
  {
   "cell_type": "code",
   "execution_count": 127,
   "id": "69bd489d-8d58-4fb7-87c2-f9e6e5a4920c",
   "metadata": {},
   "outputs": [
    {
     "data": {
      "text/plain": [
       "array([[[1, 3],\n",
       "        [2, 2],\n",
       "        [1, 1]],\n",
       "\n",
       "       [[2, 2],\n",
       "        [4, 4],\n",
       "        [1, 5]]])"
      ]
     },
     "execution_count": 127,
     "metadata": {},
     "output_type": "execute_result"
    }
   ],
   "source": [
    "arr3"
   ]
  },
  {
   "cell_type": "code",
   "execution_count": 129,
   "id": "c2451cf5-2a1a-45b2-b1c2-a9810b05b489",
   "metadata": {},
   "outputs": [
    {
     "data": {
      "text/plain": [
       "(2, 3, 2)"
      ]
     },
     "execution_count": 129,
     "metadata": {},
     "output_type": "execute_result"
    }
   ],
   "source": [
    "arr3.shape"
   ]
  },
  {
   "cell_type": "code",
   "execution_count": 77,
   "id": "82ae63ca-820c-42c5-a853-6ff6696194c5",
   "metadata": {},
   "outputs": [],
   "source": [
    "itr = range(0,10,2)\n",
    "arr4 = np.fromiter(itr, float)"
   ]
  },
  {
   "cell_type": "code",
   "execution_count": 81,
   "id": "556526e9-021d-4dfd-a47f-c8cb117be699",
   "metadata": {},
   "outputs": [
    {
     "data": {
      "text/plain": [
       "array([0., 2., 4., 6., 8.])"
      ]
     },
     "execution_count": 81,
     "metadata": {},
     "output_type": "execute_result"
    }
   ],
   "source": [
    "arr4"
   ]
  },
  {
   "cell_type": "code",
   "execution_count": 95,
   "id": "dd9a2280-e0a8-4a0d-8113-e7a4c24fe585",
   "metadata": {},
   "outputs": [
    {
     "ename": "TypeError",
     "evalue": "arange() got an unexpected keyword argument 'ndim'",
     "output_type": "error",
     "traceback": [
      "\u001b[1;31m---------------------------------------------------------------------------\u001b[0m",
      "\u001b[1;31mTypeError\u001b[0m                                 Traceback (most recent call last)",
      "Cell \u001b[1;32mIn[95], line 1\u001b[0m\n\u001b[1;32m----> 1\u001b[0m a5 \u001b[38;5;241m=\u001b[39m np\u001b[38;5;241m.\u001b[39marange(\u001b[38;5;241m0\u001b[39m,\u001b[38;5;241m16\u001b[39m,\u001b[38;5;241m3\u001b[39m, dtype\u001b[38;5;241m=\u001b[39mnp\u001b[38;5;241m.\u001b[39mfloat32, ndim \u001b[38;5;241m=\u001b[39m \u001b[38;5;241m2\u001b[39m)\n",
      "\u001b[1;31mTypeError\u001b[0m: arange() got an unexpected keyword argument 'ndim'"
     ]
    }
   ],
   "source": [
    "a5 = np.arange(0,16,3, dtype=np.float32)"
   ]
  },
  {
   "cell_type": "code",
   "execution_count": 93,
   "id": "d9e8d864-006b-4ae4-b1de-2f9026587d72",
   "metadata": {},
   "outputs": [
    {
     "data": {
      "text/plain": [
       "array([ 0.,  3.,  6.,  9., 12., 15.], dtype=float32)"
      ]
     },
     "execution_count": 93,
     "metadata": {},
     "output_type": "execute_result"
    }
   ],
   "source": [
    "a5"
   ]
  },
  {
   "cell_type": "code",
   "execution_count": 101,
   "id": "fc3b1308-ae80-4d70-8596-ad5d9a580d44",
   "metadata": {},
   "outputs": [],
   "source": [
    "a6 = np.linspace(1,20,20)"
   ]
  },
  {
   "cell_type": "code",
   "execution_count": 103,
   "id": "d1c8cc3c-de8b-47c6-bc0b-bceed500578f",
   "metadata": {},
   "outputs": [
    {
     "data": {
      "text/plain": [
       "array([ 1.,  2.,  3.,  4.,  5.,  6.,  7.,  8.,  9., 10., 11., 12., 13.,\n",
       "       14., 15., 16., 17., 18., 19., 20.])"
      ]
     },
     "execution_count": 103,
     "metadata": {},
     "output_type": "execute_result"
    }
   ],
   "source": [
    "a6"
   ]
  },
  {
   "cell_type": "code",
   "execution_count": 147,
   "id": "cf3e13d1-02a8-49bc-8912-c9ca4f9a7d70",
   "metadata": {},
   "outputs": [
    {
     "data": {
      "text/plain": [
       "array([ 0,  1,  2,  3,  4,  5,  6,  7,  8,  9, 10, 11])"
      ]
     },
     "execution_count": 147,
     "metadata": {},
     "output_type": "execute_result"
    }
   ],
   "source": [
    "a6 = np.arange(12)\n",
    "a6"
   ]
  },
  {
   "cell_type": "code",
   "execution_count": 153,
   "id": "5bd655bc-ddf7-46f2-984a-a4bdfd56d8f3",
   "metadata": {},
   "outputs": [],
   "source": [
    "a6= a6.reshape(2,2,3)"
   ]
  },
  {
   "cell_type": "code",
   "execution_count": 163,
   "id": "8a829b9f-b2b5-46bf-9822-6e23b0e4dbee",
   "metadata": {},
   "outputs": [
    {
     "data": {
      "text/plain": [
       "array([[[ 0,  1,  2],\n",
       "        [ 3,  4,  5]],\n",
       "\n",
       "       [[ 6,  7,  8],\n",
       "        [ 9, 10, 11]]])"
      ]
     },
     "execution_count": 163,
     "metadata": {},
     "output_type": "execute_result"
    }
   ],
   "source": [
    "a6"
   ]
  },
  {
   "cell_type": "code",
   "execution_count": 161,
   "id": "d4b31a30-2db9-4587-a8a0-1ea030f2b88f",
   "metadata": {},
   "outputs": [
    {
     "data": {
      "text/plain": [
       "array([ 0,  6,  3,  9,  1,  7,  4, 10,  2,  8,  5, 11])"
      ]
     },
     "execution_count": 161,
     "metadata": {},
     "output_type": "execute_result"
    }
   ],
   "source": [
    "a6.flatten('F')"
   ]
  },
  {
   "cell_type": "code",
   "execution_count": 205,
   "id": "75fb673d-4d0c-43fa-9bc9-5de8f0e5e40b",
   "metadata": {},
   "outputs": [],
   "source": [
    "import pandas as pd\n",
    "df = pd.read_csv('matches.csv', usecols = [\"id\", \"player_of_match\"])"
   ]
  },
  {
   "cell_type": "code",
   "execution_count": 221,
   "id": "7f3a03c6-6a5f-4b65-816a-3d10db0bf3a2",
   "metadata": {},
   "outputs": [
    {
     "data": {
      "text/plain": [
       "Id    990787010\n",
       "dtype: int64"
      ]
     },
     "execution_count": 221,
     "metadata": {},
     "output_type": "execute_result"
    }
   ],
   "source": [
    "df[[\"Id\"]].sum()"
   ]
  },
  {
   "cell_type": "code",
   "execution_count": 193,
   "id": "475e1910-7f61-4501-897f-35f181c99c6a",
   "metadata": {},
   "outputs": [],
   "source": [
    "df.index = range(1000, 3190, 2)"
   ]
  },
  {
   "cell_type": "code",
   "execution_count": 225,
   "id": "446dbe1e-9125-4cbf-9b9d-e24b63a32dfe",
   "metadata": {},
   "outputs": [],
   "source": [
    "dd = pd.DataFrame({\n",
    "    \"Names\":[\"Suresh\", \"Rajesh\", \"Ganesh\"],\n",
    "    \"Age\":[40,34,8]}\n",
    ")\n"
   ]
  },
  {
   "cell_type": "code",
   "execution_count": 227,
   "id": "a66d181e-77d9-4564-ba66-e8bb4945bdec",
   "metadata": {},
   "outputs": [
    {
     "data": {
      "text/html": [
       "<div>\n",
       "<style scoped>\n",
       "    .dataframe tbody tr th:only-of-type {\n",
       "        vertical-align: middle;\n",
       "    }\n",
       "\n",
       "    .dataframe tbody tr th {\n",
       "        vertical-align: top;\n",
       "    }\n",
       "\n",
       "    .dataframe thead th {\n",
       "        text-align: right;\n",
       "    }\n",
       "</style>\n",
       "<table border=\"1\" class=\"dataframe\">\n",
       "  <thead>\n",
       "    <tr style=\"text-align: right;\">\n",
       "      <th></th>\n",
       "      <th>Names</th>\n",
       "      <th>Age</th>\n",
       "    </tr>\n",
       "  </thead>\n",
       "  <tbody>\n",
       "    <tr>\n",
       "      <th>0</th>\n",
       "      <td>Suresh</td>\n",
       "      <td>40</td>\n",
       "    </tr>\n",
       "    <tr>\n",
       "      <th>1</th>\n",
       "      <td>Rajesh</td>\n",
       "      <td>34</td>\n",
       "    </tr>\n",
       "    <tr>\n",
       "      <th>2</th>\n",
       "      <td>Ganesh</td>\n",
       "      <td>8</td>\n",
       "    </tr>\n",
       "  </tbody>\n",
       "</table>\n",
       "</div>"
      ],
      "text/plain": [
       "    Names  Age\n",
       "0  Suresh   40\n",
       "1  Rajesh   34\n",
       "2  Ganesh    8"
      ]
     },
     "execution_count": 227,
     "metadata": {},
     "output_type": "execute_result"
    }
   ],
   "source": [
    "dd"
   ]
  },
  {
   "cell_type": "code",
   "execution_count": 209,
   "id": "40ad58c3-f904-48ba-b857-c7baecd4d12e",
   "metadata": {},
   "outputs": [],
   "source": [
    "rename (columns = Dict)\n",
    "rename (index = Dict)\n",
    "\n",
    "df.columns = [\"]\n",
    "df.index = []\n",
    "df.index = range\n"
   ]
  },
  {
   "cell_type": "code",
   "execution_count": 3,
   "id": "aa60be47-beed-4db7-9439-5289455f4228",
   "metadata": {},
   "outputs": [],
   "source": [
    "import numpy as np"
   ]
  },
  {
   "cell_type": "code",
   "execution_count": 33,
   "id": "99c9c366-398f-4090-83a4-05ebb68f8087",
   "metadata": {},
   "outputs": [],
   "source": [
    "aa = np.array([[[1,3,4,5,6,7,8],\n",
    "                  [2,5,6,7,7,8,5]\n",
    "              ],\n",
    "                  [\n",
    "                      [2,3,4,4,4,4,4],\n",
    "                      [2,4,3,5,3,8,9]\n",
    "                  ]\n",
    "              ])"
   ]
  },
  {
   "cell_type": "code",
   "execution_count": 47,
   "id": "371f0a40-7acf-473d-adaa-cf2f0e4778d1",
   "metadata": {},
   "outputs": [
    {
     "data": {
      "text/plain": [
       "(2, 2, 7)"
      ]
     },
     "execution_count": 47,
     "metadata": {},
     "output_type": "execute_result"
    }
   ],
   "source": [
    "aa.shape"
   ]
  },
  {
   "cell_type": "code",
   "execution_count": 57,
   "id": "2dbe095b-36d5-44b3-9ec3-e66c65c605df",
   "metadata": {},
   "outputs": [
    {
     "name": "stdout",
     "output_type": "stream",
     "text": [
      "[[[1 3 4 5 6 7 8]\n",
      "  [2 5 6 7 7 8 5]]]\n"
     ]
    }
   ],
   "source": [
    "print(aa[0:1])"
   ]
  },
  {
   "cell_type": "code",
   "execution_count": 59,
   "id": "8096c0ca-350b-4fd6-8062-881bbfb31d56",
   "metadata": {},
   "outputs": [
    {
     "name": "stdout",
     "output_type": "stream",
     "text": [
      "[[31.5 33.5 35.5 34.5 32.5]\n",
      " [24.5 26.5 28.5 27.5 25.5]\n",
      " [22.  24.  26.  25.  23. ]]\n"
     ]
    }
   ],
   "source": [
    "import numpy as np\n",
    "\n",
    "temperatures = np.array([\n",
    "    [30, 32, 34, 33, 31],  \n",
    "    [25, 27, 29, 28, 26], \n",
    "    [20, 22, 24, 23, 21]  \n",
    "])\n",
    "\n",
    "# Correction factors for each city\n",
    "corrections = np.array([1.5, -0.5, 2.0])\n",
    "\n",
    "adjusted_temperatures = temperatures + corrections[:, np.newaxis]\n",
    "#print(adjusted_temperatures)"
   ]
  },
  {
   "cell_type": "code",
   "execution_count": 61,
   "id": "fc658b6f-dc22-4475-b9d7-47ae2e003cbf",
   "metadata": {},
   "outputs": [
    {
     "name": "stdout",
     "output_type": "stream",
     "text": [
      "[[ 1.5]\n",
      " [-0.5]\n",
      " [ 2. ]]\n"
     ]
    }
   ],
   "source": [
    "print(corrections[:, np.newaxis])"
   ]
  },
  {
   "cell_type": "code",
   "execution_count": 75,
   "id": "f3a0b0e6-388f-43eb-acc8-fc9cb3f8d349",
   "metadata": {},
   "outputs": [
    {
     "data": {
      "text/plain": [
       "array([[[2, 3, 4, 4, 4, 4, 4],\n",
       "        [2, 4, 3, 5, 3, 8, 9]]])"
      ]
     },
     "execution_count": 75,
     "metadata": {},
     "output_type": "execute_result"
    }
   ],
   "source": [
    "aa[np.array([1])]"
   ]
  },
  {
   "cell_type": "code",
   "execution_count": 71,
   "id": "1e762b9d-f323-49f9-ab3b-d4da48c7d676",
   "metadata": {},
   "outputs": [
    {
     "data": {
      "text/plain": [
       "array([[[1, 3, 4, 5, 6, 7, 8],\n",
       "        [2, 5, 6, 7, 7, 8, 5]],\n",
       "\n",
       "       [[2, 3, 4, 4, 4, 4, 4],\n",
       "        [2, 4, 3, 5, 3, 8, 9]]])"
      ]
     },
     "execution_count": 71,
     "metadata": {},
     "output_type": "execute_result"
    }
   ],
   "source": [
    "aa"
   ]
  },
  {
   "cell_type": "code",
   "execution_count": 103,
   "id": "360d4e03-f9fc-4977-816e-104097b363f8",
   "metadata": {},
   "outputs": [],
   "source": [
    "b = np.array([[1, 2, 3],\n",
    "              [4, 5, 6], \n",
    "              [7, 8, 9],\n",
    "              [10, 11, 12]])"
   ]
  },
  {
   "cell_type": "code",
   "execution_count": 115,
   "id": "14d05f10-8250-48f7-9ae4-668aa1152aa1",
   "metadata": {},
   "outputs": [
    {
     "ename": "IndexError",
     "evalue": "too many indices for array: array is 2-dimensional, but 3 were indexed",
     "output_type": "error",
     "traceback": [
      "\u001b[1;31m---------------------------------------------------------------------------\u001b[0m",
      "\u001b[1;31mIndexError\u001b[0m                                Traceback (most recent call last)",
      "Cell \u001b[1;32mIn[115], line 1\u001b[0m\n\u001b[1;32m----> 1\u001b[0m b[:,:,\u001b[38;5;241m1\u001b[39m]\n",
      "\u001b[1;31mIndexError\u001b[0m: too many indices for array: array is 2-dimensional, but 3 were indexed"
     ]
    }
   ],
   "source": [
    "b[:,:,1]"
   ]
  },
  {
   "cell_type": "code",
   "execution_count": 101,
   "id": "a7abeb33-20ed-48f5-b87f-89f2b870f6db",
   "metadata": {},
   "outputs": [
    {
     "data": {
      "text/plain": [
       "array([[ 4,  5,  6],\n",
       "       [10, 11, 12]])"
      ]
     },
     "execution_count": 101,
     "metadata": {},
     "output_type": "execute_result"
    }
   ],
   "source": [
    "b[:,1]"
   ]
  },
  {
   "cell_type": "code",
   "execution_count": 125,
   "id": "44eafdd0-9bec-4f18-b47c-6e80f1eb8ce4",
   "metadata": {},
   "outputs": [
    {
     "name": "stdout",
     "output_type": "stream",
     "text": [
      "[10  9 20]\n"
     ]
    }
   ],
   "source": [
    "b = np.array([[5, 5],[4, 5],[16, 4]])\n",
    "sumrow = b.sum(-1)\n",
    "print(sumrow)\n",
    "#print(b[sumrow%10==0])"
   ]
  },
  {
   "cell_type": "code",
   "execution_count": 145,
   "id": "655718c5-b09c-4ac8-a589-154f69d38ce4",
   "metadata": {},
   "outputs": [],
   "source": [
    "import pandas as pd\n",
    "d = pd.DataFrame({\n",
    "                'test': [1,2,3,4],\n",
    "                'test2': [5,6,7,8]})"
   ]
  },
  {
   "cell_type": "code",
   "execution_count": 153,
   "id": "64678dce-fe66-4747-aa66-774d80974c05",
   "metadata": {},
   "outputs": [
    {
     "data": {
      "text/html": [
       "<div>\n",
       "<style scoped>\n",
       "    .dataframe tbody tr th:only-of-type {\n",
       "        vertical-align: middle;\n",
       "    }\n",
       "\n",
       "    .dataframe tbody tr th {\n",
       "        vertical-align: top;\n",
       "    }\n",
       "\n",
       "    .dataframe thead th {\n",
       "        text-align: right;\n",
       "    }\n",
       "</style>\n",
       "<table border=\"1\" class=\"dataframe\">\n",
       "  <thead>\n",
       "    <tr style=\"text-align: right;\">\n",
       "      <th></th>\n",
       "      <th>test</th>\n",
       "      <th>test2</th>\n",
       "    </tr>\n",
       "  </thead>\n",
       "  <tbody>\n",
       "    <tr>\n",
       "      <th>0</th>\n",
       "      <td>1</td>\n",
       "      <td>5</td>\n",
       "    </tr>\n",
       "    <tr>\n",
       "      <th>1</th>\n",
       "      <td>2</td>\n",
       "      <td>6</td>\n",
       "    </tr>\n",
       "    <tr>\n",
       "      <th>2</th>\n",
       "      <td>3</td>\n",
       "      <td>7</td>\n",
       "    </tr>\n",
       "    <tr>\n",
       "      <th>3</th>\n",
       "      <td>4</td>\n",
       "      <td>8</td>\n",
       "    </tr>\n",
       "  </tbody>\n",
       "</table>\n",
       "</div>"
      ],
      "text/plain": [
       "   test  test2\n",
       "0     1      5\n",
       "1     2      6\n",
       "2     3      7\n",
       "3     4      8"
      ]
     },
     "execution_count": 153,
     "metadata": {},
     "output_type": "execute_result"
    }
   ],
   "source": [
    "d"
   ]
  }
 ],
 "metadata": {
  "kernelspec": {
   "display_name": "Python [conda env:base] *",
   "language": "python",
   "name": "conda-base-py"
  },
  "language_info": {
   "codemirror_mode": {
    "name": "ipython",
    "version": 3
   },
   "file_extension": ".py",
   "mimetype": "text/x-python",
   "name": "python",
   "nbconvert_exporter": "python",
   "pygments_lexer": "ipython3",
   "version": "3.12.7"
  }
 },
 "nbformat": 4,
 "nbformat_minor": 5
}
