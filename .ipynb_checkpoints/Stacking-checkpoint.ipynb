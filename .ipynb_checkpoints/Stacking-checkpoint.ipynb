{
 "cells": [
  {
   "cell_type": "code",
   "execution_count": 5,
   "id": "e0b78f88-b1de-49b0-847b-2d92823bf1b3",
   "metadata": {},
   "outputs": [],
   "source": [
    "import numpy as np\n",
    "import pandas as pd"
   ]
  },
  {
   "cell_type": "code",
   "execution_count": 21,
   "id": "7ef8289d-29bd-4cb5-a7b2-e9f7df614ffb",
   "metadata": {},
   "outputs": [],
   "source": [
    "cancer = load_breast_cancer()\n",
    "X = cancer.data\n",
    "y = cancer.target"
   ]
  },
  {
   "cell_type": "code",
   "execution_count": 23,
   "id": "10c6685e-2800-4fd5-9276-3f2adb1dc41d",
   "metadata": {},
   "outputs": [
    {
     "data": {
      "text/plain": [
       "(569, 30)"
      ]
     },
     "execution_count": 23,
     "metadata": {},
     "output_type": "execute_result"
    }
   ],
   "source": [
    "X.shape"
   ]
  },
  {
   "cell_type": "code",
   "execution_count": 25,
   "id": "81ef5ff9-5de4-4de1-853e-88c98b731053",
   "metadata": {},
   "outputs": [
    {
     "data": {
      "text/plain": [
       "(569,)"
      ]
     },
     "execution_count": 25,
     "metadata": {},
     "output_type": "execute_result"
    }
   ],
   "source": [
    "y.shape"
   ]
  },
  {
   "cell_type": "code",
   "execution_count": 19,
   "id": "edbe4e33-038c-4716-9a6e-db20adc41064",
   "metadata": {},
   "outputs": [
    {
     "data": {
      "text/plain": [
       "array(['mean radius', 'mean texture', 'mean perimeter', 'mean area',\n",
       "       'mean smoothness', 'mean compactness', 'mean concavity',\n",
       "       'mean concave points', 'mean symmetry', 'mean fractal dimension',\n",
       "       'radius error', 'texture error', 'perimeter error', 'area error',\n",
       "       'smoothness error', 'compactness error', 'concavity error',\n",
       "       'concave points error', 'symmetry error',\n",
       "       'fractal dimension error', 'worst radius', 'worst texture',\n",
       "       'worst perimeter', 'worst area', 'worst smoothness',\n",
       "       'worst compactness', 'worst concavity', 'worst concave points',\n",
       "       'worst symmetry', 'worst fractal dimension'], dtype='<U23')"
      ]
     },
     "execution_count": 19,
     "metadata": {},
     "output_type": "execute_result"
    }
   ],
   "source": [
    "cancer.feature_names"
   ]
  },
  {
   "cell_type": "code",
   "execution_count": 29,
   "id": "17dcca9e-20bb-4c0a-99d0-609001d591e6",
   "metadata": {},
   "outputs": [],
   "source": [
    "from sklearn.datasets import load_breast_cancer\n",
    "from sklearn.tree import DecisionTreeClassifier\n",
    "from sklearn.ensemble import RandomForestClassifier"
   ]
  },
  {
   "cell_type": "code",
   "execution_count": 33,
   "id": "bfee5fd6-9d1f-43a0-8496-78e7df63720a",
   "metadata": {},
   "outputs": [
    {
     "name": "stdout",
     "output_type": "stream",
     "text": [
      "Collecting xgboost\n",
      "  Downloading xgboost-2.1.4-py3-none-win_amd64.whl.metadata (2.1 kB)\n",
      "Requirement already satisfied: numpy in c:\\users\\anage\\anaconda3\\lib\\site-packages (from xgboost) (1.26.4)\n",
      "Requirement already satisfied: scipy in c:\\users\\anage\\anaconda3\\lib\\site-packages (from xgboost) (1.13.1)\n",
      "Downloading xgboost-2.1.4-py3-none-win_amd64.whl (124.9 MB)\n",
      "   ---------------------------------------- 0.0/124.9 MB ? eta -:--:--\n",
      "   ---------------------------------------- 0.0/124.9 MB ? eta -:--:--\n",
      "   ---------------------------------------- 0.3/124.9 MB ? eta -:--:--\n",
      "   ---------------------------------------- 0.5/124.9 MB 1.2 MB/s eta 0:01:44\n",
      "   ---------------------------------------- 1.0/124.9 MB 1.7 MB/s eta 0:01:14\n",
      "    --------------------------------------- 1.6/124.9 MB 2.0 MB/s eta 0:01:01\n",
      "    --------------------------------------- 2.6/124.9 MB 2.6 MB/s eta 0:00:48\n",
      "   - -------------------------------------- 3.4/124.9 MB 2.9 MB/s eta 0:00:43\n",
      "   - -------------------------------------- 4.5/124.9 MB 3.2 MB/s eta 0:00:38\n",
      "   - -------------------------------------- 5.8/124.9 MB 3.6 MB/s eta 0:00:34\n",
      "   -- ------------------------------------- 6.8/124.9 MB 3.7 MB/s eta 0:00:32\n",
      "   -- ------------------------------------- 7.3/124.9 MB 3.7 MB/s eta 0:00:32\n",
      "   -- ------------------------------------- 8.4/124.9 MB 3.8 MB/s eta 0:00:31\n",
      "   --- ------------------------------------ 9.4/124.9 MB 3.9 MB/s eta 0:00:30\n",
      "   --- ------------------------------------ 10.5/124.9 MB 4.0 MB/s eta 0:00:29\n",
      "   --- ------------------------------------ 11.5/124.9 MB 4.1 MB/s eta 0:00:28\n",
      "   ---- ----------------------------------- 12.6/124.9 MB 4.1 MB/s eta 0:00:28\n",
      "   ---- ----------------------------------- 13.6/124.9 MB 4.2 MB/s eta 0:00:27\n",
      "   ---- ----------------------------------- 14.7/124.9 MB 4.3 MB/s eta 0:00:26\n",
      "   ----- ---------------------------------- 15.7/124.9 MB 4.3 MB/s eta 0:00:26\n",
      "   ----- ---------------------------------- 16.8/124.9 MB 4.3 MB/s eta 0:00:25\n",
      "   ----- ---------------------------------- 17.8/124.9 MB 4.4 MB/s eta 0:00:25\n",
      "   ----- ---------------------------------- 18.6/124.9 MB 4.4 MB/s eta 0:00:25\n",
      "   ------ --------------------------------- 19.7/124.9 MB 4.4 MB/s eta 0:00:24\n",
      "   ------ --------------------------------- 20.7/124.9 MB 4.4 MB/s eta 0:00:24\n",
      "   ------ --------------------------------- 21.5/124.9 MB 4.5 MB/s eta 0:00:24\n",
      "   ------- -------------------------------- 22.0/124.9 MB 4.4 MB/s eta 0:00:24\n",
      "   ------- -------------------------------- 23.1/124.9 MB 4.3 MB/s eta 0:00:24\n",
      "   ------- -------------------------------- 23.9/124.9 MB 4.4 MB/s eta 0:00:24\n",
      "   ------- -------------------------------- 24.9/124.9 MB 4.4 MB/s eta 0:00:23\n",
      "   -------- ------------------------------- 26.2/124.9 MB 4.4 MB/s eta 0:00:23\n",
      "   -------- ------------------------------- 27.3/124.9 MB 4.4 MB/s eta 0:00:22\n",
      "   --------- ------------------------------ 28.3/124.9 MB 4.5 MB/s eta 0:00:22\n",
      "   --------- ------------------------------ 29.6/124.9 MB 4.5 MB/s eta 0:00:22\n",
      "   --------- ------------------------------ 31.2/124.9 MB 4.6 MB/s eta 0:00:21\n",
      "   ---------- ----------------------------- 32.8/124.9 MB 4.7 MB/s eta 0:00:20\n",
      "   ---------- ----------------------------- 34.1/124.9 MB 4.8 MB/s eta 0:00:20\n",
      "   ----------- ---------------------------- 35.7/124.9 MB 4.8 MB/s eta 0:00:19\n",
      "   ----------- ---------------------------- 37.0/124.9 MB 4.9 MB/s eta 0:00:18\n",
      "   ------------ --------------------------- 38.5/124.9 MB 4.9 MB/s eta 0:00:18\n",
      "   ------------ --------------------------- 39.6/124.9 MB 5.0 MB/s eta 0:00:18\n",
      "   ------------- -------------------------- 40.9/124.9 MB 5.0 MB/s eta 0:00:17\n",
      "   ------------- -------------------------- 42.5/124.9 MB 5.0 MB/s eta 0:00:17\n",
      "   -------------- ------------------------- 44.0/124.9 MB 5.1 MB/s eta 0:00:16\n",
      "   -------------- ------------------------- 45.4/124.9 MB 5.1 MB/s eta 0:00:16\n",
      "   --------------- ------------------------ 47.2/124.9 MB 5.2 MB/s eta 0:00:15\n",
      "   --------------- ------------------------ 48.5/124.9 MB 5.2 MB/s eta 0:00:15\n",
      "   ---------------- ----------------------- 50.1/124.9 MB 5.3 MB/s eta 0:00:15\n",
      "   ---------------- ----------------------- 51.4/124.9 MB 5.3 MB/s eta 0:00:14\n",
      "   ---------------- ----------------------- 52.7/124.9 MB 5.3 MB/s eta 0:00:14\n",
      "   ----------------- ---------------------- 54.3/124.9 MB 5.4 MB/s eta 0:00:14\n",
      "   ----------------- ---------------------- 55.8/124.9 MB 5.4 MB/s eta 0:00:13\n",
      "   ------------------ --------------------- 57.1/124.9 MB 5.4 MB/s eta 0:00:13\n",
      "   ------------------ --------------------- 58.7/124.9 MB 5.5 MB/s eta 0:00:13\n",
      "   ------------------- -------------------- 59.8/124.9 MB 5.5 MB/s eta 0:00:12\n",
      "   ------------------- -------------------- 61.3/124.9 MB 5.5 MB/s eta 0:00:12\n",
      "   ------------------- -------------------- 62.4/124.9 MB 5.5 MB/s eta 0:00:12\n",
      "   -------------------- ------------------- 63.2/124.9 MB 5.5 MB/s eta 0:00:12\n",
      "   -------------------- ------------------- 64.5/124.9 MB 5.5 MB/s eta 0:00:11\n",
      "   -------------------- ------------------- 65.5/124.9 MB 5.5 MB/s eta 0:00:11\n",
      "   --------------------- ------------------ 66.8/124.9 MB 5.5 MB/s eta 0:00:11\n",
      "   --------------------- ------------------ 68.4/124.9 MB 5.5 MB/s eta 0:00:11\n",
      "   ---------------------- ----------------- 69.7/124.9 MB 5.6 MB/s eta 0:00:10\n",
      "   ---------------------- ----------------- 70.8/124.9 MB 5.6 MB/s eta 0:00:10\n",
      "   ----------------------- ---------------- 72.1/124.9 MB 5.6 MB/s eta 0:00:10\n",
      "   ----------------------- ---------------- 73.4/124.9 MB 5.6 MB/s eta 0:00:10\n",
      "   ----------------------- ---------------- 74.7/124.9 MB 5.6 MB/s eta 0:00:09\n",
      "   ------------------------ --------------- 76.0/124.9 MB 5.6 MB/s eta 0:00:09\n",
      "   ------------------------ --------------- 77.3/124.9 MB 5.6 MB/s eta 0:00:09\n",
      "   ------------------------- -------------- 78.6/124.9 MB 5.6 MB/s eta 0:00:09\n",
      "   ------------------------- -------------- 80.0/124.9 MB 5.6 MB/s eta 0:00:08\n",
      "   -------------------------- ------------- 81.3/124.9 MB 5.6 MB/s eta 0:00:08\n",
      "   -------------------------- ------------- 82.6/124.9 MB 5.7 MB/s eta 0:00:08\n",
      "   -------------------------- ------------- 83.9/124.9 MB 5.7 MB/s eta 0:00:08\n",
      "   --------------------------- ------------ 85.5/124.9 MB 5.7 MB/s eta 0:00:07\n",
      "   --------------------------- ------------ 86.5/124.9 MB 5.7 MB/s eta 0:00:07\n",
      "   ---------------------------- ----------- 87.8/124.9 MB 5.7 MB/s eta 0:00:07\n",
      "   ---------------------------- ----------- 89.1/124.9 MB 5.7 MB/s eta 0:00:07\n",
      "   ---------------------------- ----------- 90.2/124.9 MB 5.7 MB/s eta 0:00:07\n",
      "   ----------------------------- ---------- 91.2/124.9 MB 5.7 MB/s eta 0:00:06\n",
      "   ----------------------------- ---------- 92.3/124.9 MB 5.7 MB/s eta 0:00:06\n",
      "   ----------------------------- ---------- 93.1/124.9 MB 5.6 MB/s eta 0:00:06\n",
      "   ----------------------------- ---------- 93.1/124.9 MB 5.6 MB/s eta 0:00:06\n",
      "   ----------------------------- ---------- 93.3/124.9 MB 5.5 MB/s eta 0:00:06\n",
      "   ----------------------------- ---------- 93.6/124.9 MB 5.5 MB/s eta 0:00:06\n",
      "   ----------------------------- ---------- 93.6/124.9 MB 5.5 MB/s eta 0:00:06\n",
      "   ------------------------------ --------- 93.8/124.9 MB 5.4 MB/s eta 0:00:06\n",
      "   ------------------------------ --------- 94.1/124.9 MB 5.4 MB/s eta 0:00:06\n",
      "   ------------------------------ --------- 94.4/124.9 MB 5.3 MB/s eta 0:00:06\n",
      "   ------------------------------ --------- 94.4/124.9 MB 5.3 MB/s eta 0:00:06\n",
      "   ------------------------------ --------- 94.6/124.9 MB 5.2 MB/s eta 0:00:06\n",
      "   ------------------------------ --------- 94.6/124.9 MB 5.2 MB/s eta 0:00:06\n",
      "   ------------------------------ --------- 94.6/124.9 MB 5.2 MB/s eta 0:00:06\n",
      "   ------------------------------ --------- 94.6/124.9 MB 5.2 MB/s eta 0:00:06\n",
      "   ------------------------------ --------- 94.9/124.9 MB 5.0 MB/s eta 0:00:07\n",
      "   ------------------------------ --------- 94.9/124.9 MB 5.0 MB/s eta 0:00:07\n",
      "   ------------------------------ --------- 94.9/124.9 MB 5.0 MB/s eta 0:00:07\n",
      "   ------------------------------ --------- 94.9/124.9 MB 5.0 MB/s eta 0:00:07\n",
      "   ------------------------------ --------- 95.2/124.9 MB 4.8 MB/s eta 0:00:07\n",
      "   ------------------------------ --------- 95.9/124.9 MB 4.7 MB/s eta 0:00:07\n",
      "   ------------------------------ --------- 96.7/124.9 MB 4.7 MB/s eta 0:00:06\n",
      "   ------------------------------- -------- 97.8/124.9 MB 4.7 MB/s eta 0:00:06\n",
      "   ------------------------------- -------- 98.8/124.9 MB 4.7 MB/s eta 0:00:06\n",
      "   ------------------------------- -------- 99.6/124.9 MB 4.7 MB/s eta 0:00:06\n",
      "   -------------------------------- ------- 100.4/124.9 MB 4.7 MB/s eta 0:00:06\n",
      "   -------------------------------- ------- 101.2/124.9 MB 4.7 MB/s eta 0:00:06\n",
      "   -------------------------------- ------- 102.2/124.9 MB 4.7 MB/s eta 0:00:05\n",
      "   -------------------------------- ------- 103.0/124.9 MB 4.7 MB/s eta 0:00:05\n",
      "   --------------------------------- ------ 103.8/124.9 MB 4.7 MB/s eta 0:00:05\n",
      "   --------------------------------- ------ 104.9/124.9 MB 4.7 MB/s eta 0:00:05\n",
      "   --------------------------------- ------ 105.9/124.9 MB 4.7 MB/s eta 0:00:05\n",
      "   ---------------------------------- ----- 107.2/124.9 MB 4.7 MB/s eta 0:00:04\n",
      "   ---------------------------------- ----- 108.3/124.9 MB 4.7 MB/s eta 0:00:04\n",
      "   ----------------------------------- ---- 109.3/124.9 MB 4.7 MB/s eta 0:00:04\n",
      "   ----------------------------------- ---- 110.4/124.9 MB 4.7 MB/s eta 0:00:04\n",
      "   ----------------------------------- ---- 111.4/124.9 MB 4.7 MB/s eta 0:00:03\n",
      "   ------------------------------------ --- 112.5/124.9 MB 4.7 MB/s eta 0:00:03\n",
      "   ------------------------------------ --- 113.2/124.9 MB 4.7 MB/s eta 0:00:03\n",
      "   ------------------------------------ --- 114.3/124.9 MB 4.7 MB/s eta 0:00:03\n",
      "   ------------------------------------ --- 114.8/124.9 MB 4.7 MB/s eta 0:00:03\n",
      "   ------------------------------------- -- 115.6/124.9 MB 4.7 MB/s eta 0:00:02\n",
      "   ------------------------------------- -- 116.7/124.9 MB 4.7 MB/s eta 0:00:02\n",
      "   ------------------------------------- -- 117.7/124.9 MB 4.7 MB/s eta 0:00:02\n",
      "   -------------------------------------- - 118.8/124.9 MB 4.7 MB/s eta 0:00:02\n",
      "   -------------------------------------- - 119.8/124.9 MB 4.7 MB/s eta 0:00:02\n",
      "   -------------------------------------- - 120.8/124.9 MB 4.7 MB/s eta 0:00:01\n",
      "   ---------------------------------------  121.9/124.9 MB 4.7 MB/s eta 0:00:01\n",
      "   ---------------------------------------  122.9/124.9 MB 4.7 MB/s eta 0:00:01\n",
      "   ---------------------------------------  124.0/124.9 MB 4.7 MB/s eta 0:00:01\n",
      "   ---------------------------------------  124.8/124.9 MB 4.7 MB/s eta 0:00:01\n",
      "   ---------------------------------------- 124.9/124.9 MB 4.7 MB/s eta 0:00:00\n",
      "Installing collected packages: xgboost\n",
      "Successfully installed xgboost-2.1.4\n"
     ]
    }
   ],
   "source": [
    "!pip install xgboost"
   ]
  },
  {
   "cell_type": "markdown",
   "id": "e3d0c447-d344-4e8f-b7a0-bfeadd58a8f3",
   "metadata": {},
   "source": [
    "## Using individual models"
   ]
  },
  {
   "cell_type": "code",
   "execution_count": 41,
   "id": "68afc63e-398c-4fd8-a181-0d2a2f7937d3",
   "metadata": {},
   "outputs": [],
   "source": [
    "import xgboost"
   ]
  },
  {
   "cell_type": "code",
   "execution_count": 43,
   "id": "bd40adbf-6c5a-409d-ba5b-45774d987fb9",
   "metadata": {},
   "outputs": [],
   "source": [
    "from sklearn.neighbors import KNeighborsClassifier\n",
    "from xgboost import XGBClassifier"
   ]
  },
  {
   "cell_type": "code",
   "execution_count": 45,
   "id": "aa06f210-1731-4107-9609-7d06554687f7",
   "metadata": {},
   "outputs": [],
   "source": [
    "dtc =  DecisionTreeClassifier()\n",
    "rfc = RandomForestClassifier()\n",
    "knn =  KNeighborsClassifier()\n",
    "xgb = xgboost.XGBClassifier()"
   ]
  },
  {
   "cell_type": "code",
   "execution_count": 49,
   "id": "1200504f-22f0-4ce6-aa57-61177d77a5ee",
   "metadata": {},
   "outputs": [],
   "source": [
    "from sklearn.model_selection import cross_val_score"
   ]
  },
  {
   "cell_type": "code",
   "execution_count": 51,
   "id": "4b95fa5c-55c7-4fd4-b1d2-795873b852ff",
   "metadata": {},
   "outputs": [
    {
     "name": "stdout",
     "output_type": "stream",
     "text": [
      "The accuracy score of DecisionTreeClassifier() is: 0.9120943952802361\n",
      "The accuracy score of RandomForestClassifier() is: 0.95960254618848\n",
      "The accuracy score of KNeighborsClassifier() is: 0.9279459711224964\n",
      "The accuracy score of XGBClassifier(base_score=None, booster=None, callbacks=None,\n",
      "              colsample_bylevel=None, colsample_bynode=None,\n",
      "              colsample_bytree=None, device=None, early_stopping_rounds=None,\n",
      "              enable_categorical=False, eval_metric=None, feature_types=None,\n",
      "              gamma=None, grow_policy=None, importance_type=None,\n",
      "              interaction_constraints=None, learning_rate=None, max_bin=None,\n",
      "              max_cat_threshold=None, max_cat_to_onehot=None,\n",
      "              max_delta_step=None, max_depth=None, max_leaves=None,\n",
      "              min_child_weight=None, missing=nan, monotone_constraints=None,\n",
      "              multi_strategy=None, n_estimators=None, n_jobs=None,\n",
      "              num_parallel_tree=None, random_state=None, ...) is: 0.9701288619779538\n"
     ]
    }
   ],
   "source": [
    "clf = [dtc,rfc,knn,xgb]\n",
    "for algo in clf:\n",
    "    score = cross_val_score(algo,X,y,cv = 5,scoring = 'accuracy')\n",
    "    print(\"The accuracy score of {} is:\".format(algo),score.mean())"
   ]
  },
  {
   "cell_type": "markdown",
   "id": "e59db97e-463f-49f7-b9f4-ca340ca43710",
   "metadata": {},
   "source": [
    "## Using stacking"
   ]
  },
  {
   "cell_type": "code",
   "execution_count": 57,
   "id": "01e44bac-7ca2-46ec-9637-a8cb428e01ee",
   "metadata": {},
   "outputs": [
    {
     "name": "stdout",
     "output_type": "stream",
     "text": [
      "The accuracy score of is: 0.9771619313771154\n"
     ]
    }
   ],
   "source": [
    "from sklearn.linear_model import LogisticRegression\n",
    "clf = [('dtc',dtc),('rfc',rfc),('knn',knn),('xgb',xgb)] #list of (str, estimator)\n",
    "\n",
    "from sklearn.ensemble import StackingClassifier\n",
    "\n",
    "lr = LogisticRegression()\n",
    "stack_model = StackingClassifier( estimators = clf,final_estimator = lr)\n",
    "score = cross_val_score(stack_model,X,y,cv = 5,scoring = 'accuracy')\n",
    "print(\"The accuracy score of is:\",score.mean())"
   ]
  },
  {
   "cell_type": "markdown",
   "id": "a2f0fd71-3fc9-4ac3-b241-5f4f972a70e2",
   "metadata": {},
   "source": [
    "### As shown above, stacking is better than the individual models"
   ]
  }
 ],
 "metadata": {
  "kernelspec": {
   "display_name": "Python [conda env:base] *",
   "language": "python",
   "name": "conda-base-py"
  },
  "language_info": {
   "codemirror_mode": {
    "name": "ipython",
    "version": 3
   },
   "file_extension": ".py",
   "mimetype": "text/x-python",
   "name": "python",
   "nbconvert_exporter": "python",
   "pygments_lexer": "ipython3",
   "version": "3.12.7"
  }
 },
 "nbformat": 4,
 "nbformat_minor": 5
}
