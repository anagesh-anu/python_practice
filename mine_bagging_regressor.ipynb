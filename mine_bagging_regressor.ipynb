{
 "cells": [
  {
   "cell_type": "code",
   "execution_count": 49,
   "id": "afb6dc5a-4f00-471c-9e7d-89bf169682b0",
   "metadata": {},
   "outputs": [],
   "source": [
    "import numpy as np\n",
    "import pandas as pd\n",
    "import matplotlib.pyplot as plt\n",
    "\n",
    "from sklearn.model_selection import train_test_split\n",
    "from sklearn.datasets import make_regression\n",
    "from sklearn.tree import DecisionTreeRegressor\n",
    "from sklearn.ensemble import BaggingRegressor\n",
    "from sklearn.datasets import load_diabetes"
   ]
  },
  {
   "cell_type": "code",
   "execution_count": 71,
   "id": "1b6ccbe6-e43d-44e8-87b0-6f9d9c262591",
   "metadata": {},
   "outputs": [],
   "source": [
    "X, y = make_regression(n_samples=1000, n_features=4,\n",
    "                       n_informative=2, n_targets=1,\n",
    "                       random_state=0, shuffle=False)"
   ]
  },
  {
   "cell_type": "code",
   "execution_count": 19,
   "id": "ac4c5a13-9851-460d-af29-44661d23558d",
   "metadata": {},
   "outputs": [],
   "source": [
    "df = load_diabetes()\n",
    "X, y = df.data, df.target"
   ]
  },
  {
   "cell_type": "code",
   "execution_count": 73,
   "id": "8d0953ad-bae2-40ac-86f4-c3fae171cdef",
   "metadata": {},
   "outputs": [],
   "source": [
    "X_train, X_test, y_train, y_test = train_test_split(X, y, test_size = 0.2, random_state=42)"
   ]
  },
  {
   "cell_type": "code",
   "execution_count": 75,
   "id": "53037021-09fc-4c1e-b89d-30b0799864e6",
   "metadata": {},
   "outputs": [],
   "source": [
    "dc = DecisionTreeRegressor()\n",
    "model = BaggingRegressor(estimator = dc, n_estimators = 10)"
   ]
  },
  {
   "cell_type": "code",
   "execution_count": 77,
   "id": "c9c8b16a-77e9-4570-9bdb-4f066192c9ef",
   "metadata": {},
   "outputs": [],
   "source": [
    "regressors = model.fit(X_train, y_train)"
   ]
  },
  {
   "cell_type": "code",
   "execution_count": 79,
   "id": "53de9ee4-3bad-4694-aab4-bbbfb286e5c9",
   "metadata": {},
   "outputs": [],
   "source": [
    "y_pred = model.predict(X_test)"
   ]
  },
  {
   "cell_type": "code",
   "execution_count": 81,
   "id": "0c242a7b-cf0d-4a4b-b036-ed6c4653c0e0",
   "metadata": {},
   "outputs": [
    {
     "name": "stdout",
     "output_type": "stream",
     "text": [
      "6.190910231021401\n"
     ]
    }
   ],
   "source": [
    "from sklearn.metrics import mean_absolute_error\n",
    "print(mean_absolute_error(y_test, y_pred))"
   ]
  },
  {
   "cell_type": "code",
   "execution_count": 83,
   "id": "8ce7ca01-2968-46eb-a22b-c9f36c7f5c4d",
   "metadata": {},
   "outputs": [
    {
     "name": "stdout",
     "output_type": "stream",
     "text": [
      "11.174080884432856\n",
      "13.564243038104669\n",
      "12.164691282220652\n",
      "11.989877308899636\n",
      "11.000342178829987\n",
      "12.232563429971957\n",
      "12.773040728156365\n",
      "12.990679588345332\n",
      "14.493722412342235\n",
      "11.77102603644645\n"
     ]
    }
   ],
   "source": [
    "for i, clf in enumerate(regressors):\n",
    "    print(mean_absolute_error(y_test, clf.predict(X_test)))"
   ]
  },
  {
   "cell_type": "code",
   "execution_count": 85,
   "id": "5162754b-403a-477b-aa41-ba45ade2d2f5",
   "metadata": {},
   "outputs": [
    {
     "name": "stdout",
     "output_type": "stream",
     "text": [
      "185.86405766009943\n"
     ]
    }
   ],
   "source": [
    "from sklearn.metrics import mean_squared_error\n",
    "print(mean_squared_error(y_test, y_pred))"
   ]
  },
  {
   "cell_type": "code",
   "execution_count": 91,
   "id": "61f179e0-b031-48fd-b5ce-ff9b92be6ac2",
   "metadata": {},
   "outputs": [
    {
     "data": {
      "text/plain": [
       "array([-93.46596754])"
      ]
     },
     "execution_count": 91,
     "metadata": {},
     "output_type": "execute_result"
    }
   ],
   "source": [
    "#predicting a single given value.\n",
    "model.predict(X_test[1].reshape(1, -1))"
   ]
  },
  {
   "cell_type": "code",
   "execution_count": 97,
   "id": "f9710d67-5225-448d-8ae0-96964c54ca8f",
   "metadata": {},
   "outputs": [
    {
     "name": "stdout",
     "output_type": "stream",
     "text": [
      "[-94.8945986]\n",
      "[-82.71566381]\n",
      "[-100.69515795]\n",
      "[-94.8945986]\n",
      "[-94.51220866]\n",
      "[-94.51220866]\n",
      "[-94.51220866]\n",
      "[-100.69515795]\n",
      "[-82.71566381]\n",
      "[-94.51220866]\n",
      "Final  [-93.46596754]\n"
     ]
    }
   ],
   "source": [
    "#average of all the indiviudal classifications has been correctly printed as the over all model prediction\n",
    "ll = 0\n",
    "for i, clf in enumerate(regressors):\n",
    "    k = clf.predict(X_test[1].reshape(1, -1))\n",
    "    print(k)\n",
    "    ll= ll+k\n",
    "    \n",
    "\n",
    "print(\"Final \",ll/10)"
   ]
  }
 ],
 "metadata": {
  "kernelspec": {
   "display_name": "Python [conda env:base] *",
   "language": "python",
   "name": "conda-base-py"
  },
  "language_info": {
   "codemirror_mode": {
    "name": "ipython",
    "version": 3
   },
   "file_extension": ".py",
   "mimetype": "text/x-python",
   "name": "python",
   "nbconvert_exporter": "python",
   "pygments_lexer": "ipython3",
   "version": "3.12.7"
  }
 },
 "nbformat": 4,
 "nbformat_minor": 5
}
