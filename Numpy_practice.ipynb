{
 "cells": [
  {
   "cell_type": "code",
   "execution_count": 43,
   "id": "5c721a63-e4a7-4d3e-b3e8-7f343ddbf8f8",
   "metadata": {},
   "outputs": [
    {
     "data": {
      "text/plain": [
       "-1"
      ]
     },
     "execution_count": 43,
     "metadata": {},
     "output_type": "execute_result"
    }
   ],
   "source": [
    "import numpy as np\n",
    "\n",
    "details = [1,2,3],[4,-1,6],[3,99,2]\n",
    "sales = np.array(details)\n",
    "\n",
    "#print(sales)\n",
    "sales.min()\n",
    "#print(sales.shape)"
   ]
  },
  {
   "cell_type": "code",
   "execution_count": 23,
   "id": "f7217a8c-20a1-481b-8638-398a6d857c3e",
   "metadata": {},
   "outputs": [
    {
     "data": {
      "text/plain": [
       "2"
      ]
     },
     "execution_count": 23,
     "metadata": {},
     "output_type": "execute_result"
    }
   ],
   "source": [
    "sales.ndim"
   ]
  },
  {
   "cell_type": "code",
   "execution_count": 25,
   "id": "29c56cdc-c79a-409d-afc8-61d8b8fafdb7",
   "metadata": {},
   "outputs": [
    {
     "data": {
      "text/plain": [
       "array([[ 1,  4,  3],\n",
       "       [ 2, -1,  0],\n",
       "       [ 3,  6,  2]])"
      ]
     },
     "execution_count": 25,
     "metadata": {},
     "output_type": "execute_result"
    }
   ],
   "source": [
    "sales.T"
   ]
  },
  {
   "cell_type": "code",
   "execution_count": 27,
   "id": "f629339e-6df7-42b3-9488-616158d17321",
   "metadata": {},
   "outputs": [
    {
     "data": {
      "text/plain": [
       "20"
      ]
     },
     "execution_count": 27,
     "metadata": {},
     "output_type": "execute_result"
    }
   ],
   "source": [
    "sales.sum()"
   ]
  },
  {
   "cell_type": "code",
   "execution_count": 33,
   "id": "93124541-3ad1-4577-9dd9-4e9ce0522e79",
   "metadata": {},
   "outputs": [
    {
     "data": {
      "text/plain": [
       "99"
      ]
     },
     "execution_count": 33,
     "metadata": {},
     "output_type": "execute_result"
    }
   ],
   "source": [
    "sales.max()"
   ]
  },
  {
   "cell_type": "code",
   "execution_count": 37,
   "id": "9379de1e-0580-4d79-b7d3-8b7b1f72fdc7",
   "metadata": {},
   "outputs": [
    {
     "data": {
      "text/plain": [
       "(3, 3)"
      ]
     },
     "execution_count": 37,
     "metadata": {},
     "output_type": "execute_result"
    }
   ],
   "source": [
    "sales.shape"
   ]
  },
  {
   "cell_type": "code",
   "execution_count": 45,
   "id": "2a1e08ac-3e39-453b-ba90-79df98a11346",
   "metadata": {},
   "outputs": [
    {
     "data": {
      "text/plain": [
       "array([[ 1],\n",
       "       [ 2],\n",
       "       [ 3],\n",
       "       [ 4],\n",
       "       [-1],\n",
       "       [ 6],\n",
       "       [ 3],\n",
       "       [99],\n",
       "       [ 2]])"
      ]
     },
     "execution_count": 45,
     "metadata": {},
     "output_type": "execute_result"
    }
   ],
   "source": [
    "sales.reshape(9,1)"
   ]
  },
  {
   "cell_type": "code",
   "execution_count": 49,
   "id": "917e9b26-cd8e-42c7-b3ce-9203f6b31de0",
   "metadata": {},
   "outputs": [
    {
     "data": {
      "text/plain": [
       "array([[ 14],\n",
       "       [ 20],\n",
       "       [207]])"
      ]
     },
     "execution_count": 49,
     "metadata": {},
     "output_type": "execute_result"
    }
   ],
   "source": [
    "sales2 = np.array([[1],[2],[3]])\n",
    "sales.dot(sales2)"
   ]
  },
  {
   "cell_type": "code",
   "execution_count": 53,
   "id": "f1376c5b-aaee-42c3-b0aa-2e1684386de9",
   "metadata": {},
   "outputs": [
    {
     "data": {
      "text/plain": [
       "9"
      ]
     },
     "execution_count": 53,
     "metadata": {},
     "output_type": "execute_result"
    }
   ],
   "source": [
    "np.count_nonzero(sales)"
   ]
  },
  {
   "cell_type": "code",
   "execution_count": 59,
   "id": "52fc33d6-76c4-466c-80ef-5b87890bb27d",
   "metadata": {},
   "outputs": [
    {
     "data": {
      "text/plain": [
       "7"
      ]
     },
     "execution_count": 59,
     "metadata": {},
     "output_type": "execute_result"
    }
   ],
   "source": [
    "details = [1,0,0],[4,-1,6],[3,-5,2]\n",
    "s1 = np.array(details)\n",
    "np.count_nonzero(s1)"
   ]
  },
  {
   "cell_type": "code",
   "execution_count": 79,
   "id": "fe261adb-57d6-4a6c-af53-8f90ccf007f0",
   "metadata": {},
   "outputs": [],
   "source": [
    "s1.sort()"
   ]
  },
  {
   "cell_type": "code",
   "execution_count": 81,
   "id": "a9df937e-0e18-4091-b5c5-7990df2c759f",
   "metadata": {},
   "outputs": [
    {
     "data": {
      "text/plain": [
       "array([[ 0,  0,  1],\n",
       "       [-1,  4,  6],\n",
       "       [-5,  2,  3]])"
      ]
     },
     "execution_count": 81,
     "metadata": {},
     "output_type": "execute_result"
    }
   ],
   "source": [
    "s1"
   ]
  },
  {
   "cell_type": "code",
   "execution_count": 75,
   "id": "b38501cf-14c1-499f-9fdc-c32a6b28e15f",
   "metadata": {},
   "outputs": [
    {
     "data": {
      "text/plain": [
       "array([ 0,  0,  1, -1,  4,  6, -5,  2,  3])"
      ]
     },
     "execution_count": 75,
     "metadata": {},
     "output_type": "execute_result"
    }
   ],
   "source": [
    "s1.flatten()"
   ]
  },
  {
   "cell_type": "code",
   "execution_count": 77,
   "id": "acc73d94-4571-4de4-bc01-589f7d005ae3",
   "metadata": {},
   "outputs": [
    {
     "data": {
      "text/plain": [
       "array([[ 0,  0,  1],\n",
       "       [-1,  4,  6],\n",
       "       [-5,  2,  3]])"
      ]
     },
     "execution_count": 77,
     "metadata": {},
     "output_type": "execute_result"
    }
   ],
   "source": [
    "s1"
   ]
  },
  {
   "cell_type": "code",
   "execution_count": 83,
   "id": "7cc4a51b-b60f-467b-aed9-5b2c0fe74c48",
   "metadata": {},
   "outputs": [
    {
     "data": {
      "text/plain": [
       "array([[ 3,  3,  4],\n",
       "       [ 2,  7,  9],\n",
       "       [-2,  5,  6]])"
      ]
     },
     "execution_count": 83,
     "metadata": {},
     "output_type": "execute_result"
    }
   ],
   "source": [
    "s1+3"
   ]
  },
  {
   "cell_type": "code",
   "execution_count": 85,
   "id": "810f21f0-c24d-41f4-9c3b-ff87e8534803",
   "metadata": {},
   "outputs": [
    {
     "data": {
      "text/plain": [
       "array([[ 0,  0,  1],\n",
       "       [-1,  4,  6],\n",
       "       [-5,  2,  3]])"
      ]
     },
     "execution_count": 85,
     "metadata": {},
     "output_type": "execute_result"
    }
   ],
   "source": [
    "s1"
   ]
  },
  {
   "cell_type": "code",
   "execution_count": 87,
   "id": "93ae2265-5e55-428e-9800-e2c6d17d141d",
   "metadata": {},
   "outputs": [
    {
     "data": {
      "text/plain": [
       "array([0, 4, 3])"
      ]
     },
     "execution_count": 87,
     "metadata": {},
     "output_type": "execute_result"
    }
   ],
   "source": [
    "s1.diagonal()"
   ]
  },
  {
   "cell_type": "code",
   "execution_count": 89,
   "id": "d18136fd-10a6-4307-8acb-4f15b6f49c8e",
   "metadata": {},
   "outputs": [
    {
     "data": {
      "text/plain": [
       "7"
      ]
     },
     "execution_count": 89,
     "metadata": {},
     "output_type": "execute_result"
    }
   ],
   "source": [
    "s1.trace()"
   ]
  }
 ],
 "metadata": {
  "kernelspec": {
   "display_name": "Python [conda env:base] *",
   "language": "python",
   "name": "conda-base-py"
  },
  "language_info": {
   "codemirror_mode": {
    "name": "ipython",
    "version": 3
   },
   "file_extension": ".py",
   "mimetype": "text/x-python",
   "name": "python",
   "nbconvert_exporter": "python",
   "pygments_lexer": "ipython3",
   "version": "3.12.7"
  }
 },
 "nbformat": 4,
 "nbformat_minor": 5
}
